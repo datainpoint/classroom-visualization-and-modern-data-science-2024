{
 "cells": [
  {
   "cell_type": "markdown",
   "metadata": {
    "slideshow": {
     "slide_type": "slide"
    }
   },
   "source": [
    "# Data Visualization with Modern Data Science\n",
    "\n",
    "> Data Wrangling with Pandas\n",
    "\n",
    "Yao-Jen Kuo <yaojenkuo@ntu.edu.tw> from [DATAINPOINT](https://www.datainpoint.com/)"
   ]
  },
  {
   "cell_type": "code",
   "execution_count": 1,
   "metadata": {
    "slideshow": {
     "slide_type": "subslide"
    }
   },
   "outputs": [],
   "source": [
    "import sqlite3\n",
    "import pandas as pd"
   ]
  },
  {
   "cell_type": "markdown",
   "metadata": {
    "slideshow": {
     "slide_type": "slide"
    }
   },
   "source": [
    "## Basic attributes and methods"
   ]
  },
  {
   "cell_type": "code",
   "execution_count": 2,
   "metadata": {
    "slideshow": {
     "slide_type": "subslide"
    }
   },
   "outputs": [
    {
     "data": {
      "text/plain": [
       "pandas.core.frame.DataFrame"
      ]
     },
     "execution_count": 2,
     "metadata": {},
     "output_type": "execute_result"
    }
   ],
   "source": [
    "db_file_path = \"data/taiwan_election_2024.db\"\n",
    "conn = sqlite3.connect(db_file_path)\n",
    "presidents = pd.read_sql(\"\"\"SELECT * FROM presidents;\"\"\", conn)\n",
    "type(presidents)"
   ]
  },
  {
   "cell_type": "markdown",
   "metadata": {
    "slideshow": {
     "slide_type": "subslide"
    }
   },
   "source": [
    "## Basic attributes of a `DataFrame` object\n",
    "\n",
    "- `shape`\n",
    "- `dtypes`\n",
    "- `index`\n",
    "- `columns`"
   ]
  },
  {
   "cell_type": "code",
   "execution_count": 3,
   "metadata": {
    "slideshow": {
     "slide_type": "subslide"
    }
   },
   "outputs": [
    {
     "name": "stdout",
     "output_type": "stream",
     "text": [
      "(53385, 7)\n",
      "id                  int64\n",
      "number              int64\n",
      "district_id         int64\n",
      "candidate_id        int64\n",
      "votes               int64\n",
      "election_type_id    int64\n",
      "village_id          int64\n",
      "dtype: object\n",
      "RangeIndex(start=0, stop=53385, step=1)\n",
      "Index(['id', 'number', 'district_id', 'candidate_id', 'votes',\n",
      "       'election_type_id', 'village_id'],\n",
      "      dtype='object')\n"
     ]
    }
   ],
   "source": [
    "print(presidents.shape)\n",
    "print(presidents.dtypes)\n",
    "print(presidents.index)\n",
    "print(presidents.columns)"
   ]
  },
  {
   "cell_type": "markdown",
   "metadata": {
    "slideshow": {
     "slide_type": "subslide"
    }
   },
   "source": [
    "## Basic methods of a `DataFrame` object\n",
    "\n",
    "- `head(n)`\n",
    "- `tail(n)`\n",
    "- `describe()`\n",
    "- `info()`\n",
    "- `set_index()`\n",
    "- `reset_index()`"
   ]
  },
  {
   "cell_type": "markdown",
   "metadata": {
    "slideshow": {
     "slide_type": "subslide"
    }
   },
   "source": [
    "## `head(n)` returns the top n observations with header"
   ]
  },
  {
   "cell_type": "code",
   "execution_count": 4,
   "metadata": {
    "slideshow": {
     "slide_type": "-"
    }
   },
   "outputs": [
    {
     "data": {
      "text/html": [
       "<div>\n",
       "<style scoped>\n",
       "    .dataframe tbody tr th:only-of-type {\n",
       "        vertical-align: middle;\n",
       "    }\n",
       "\n",
       "    .dataframe tbody tr th {\n",
       "        vertical-align: top;\n",
       "    }\n",
       "\n",
       "    .dataframe thead th {\n",
       "        text-align: right;\n",
       "    }\n",
       "</style>\n",
       "<table border=\"1\" class=\"dataframe\">\n",
       "  <thead>\n",
       "    <tr style=\"text-align: right;\">\n",
       "      <th></th>\n",
       "      <th>id</th>\n",
       "      <th>number</th>\n",
       "      <th>district_id</th>\n",
       "      <th>candidate_id</th>\n",
       "      <th>votes</th>\n",
       "      <th>election_type_id</th>\n",
       "      <th>village_id</th>\n",
       "    </tr>\n",
       "  </thead>\n",
       "  <tbody>\n",
       "    <tr>\n",
       "      <th>0</th>\n",
       "      <td>1</td>\n",
       "      <td>1</td>\n",
       "      <td>15035</td>\n",
       "      <td>330</td>\n",
       "      <td>146</td>\n",
       "      <td>1</td>\n",
       "      <td>1</td>\n",
       "    </tr>\n",
       "    <tr>\n",
       "      <th>1</th>\n",
       "      <td>2</td>\n",
       "      <td>1</td>\n",
       "      <td>15036</td>\n",
       "      <td>330</td>\n",
       "      <td>128</td>\n",
       "      <td>1</td>\n",
       "      <td>1</td>\n",
       "    </tr>\n",
       "    <tr>\n",
       "      <th>2</th>\n",
       "      <td>3</td>\n",
       "      <td>1</td>\n",
       "      <td>15037</td>\n",
       "      <td>330</td>\n",
       "      <td>239</td>\n",
       "      <td>1</td>\n",
       "      <td>2</td>\n",
       "    </tr>\n",
       "    <tr>\n",
       "      <th>3</th>\n",
       "      <td>4</td>\n",
       "      <td>1</td>\n",
       "      <td>15038</td>\n",
       "      <td>330</td>\n",
       "      <td>208</td>\n",
       "      <td>1</td>\n",
       "      <td>3</td>\n",
       "    </tr>\n",
       "    <tr>\n",
       "      <th>4</th>\n",
       "      <td>5</td>\n",
       "      <td>1</td>\n",
       "      <td>15039</td>\n",
       "      <td>330</td>\n",
       "      <td>210</td>\n",
       "      <td>1</td>\n",
       "      <td>4</td>\n",
       "    </tr>\n",
       "  </tbody>\n",
       "</table>\n",
       "</div>"
      ],
      "text/plain": [
       "   id  number  district_id  candidate_id  votes  election_type_id  village_id\n",
       "0   1       1        15035           330    146                 1           1\n",
       "1   2       1        15036           330    128                 1           1\n",
       "2   3       1        15037           330    239                 1           2\n",
       "3   4       1        15038           330    208                 1           3\n",
       "4   5       1        15039           330    210                 1           4"
      ]
     },
     "execution_count": 4,
     "metadata": {},
     "output_type": "execute_result"
    }
   ],
   "source": [
    "presidents.head() # n is default to 5"
   ]
  },
  {
   "cell_type": "markdown",
   "metadata": {
    "slideshow": {
     "slide_type": "subslide"
    }
   },
   "source": [
    "## `tail(n)` returns the bottom n observations with header"
   ]
  },
  {
   "cell_type": "code",
   "execution_count": 5,
   "metadata": {},
   "outputs": [
    {
     "data": {
      "text/html": [
       "<div>\n",
       "<style scoped>\n",
       "    .dataframe tbody tr th:only-of-type {\n",
       "        vertical-align: middle;\n",
       "    }\n",
       "\n",
       "    .dataframe tbody tr th {\n",
       "        vertical-align: top;\n",
       "    }\n",
       "\n",
       "    .dataframe thead th {\n",
       "        text-align: right;\n",
       "    }\n",
       "</style>\n",
       "<table border=\"1\" class=\"dataframe\">\n",
       "  <thead>\n",
       "    <tr style=\"text-align: right;\">\n",
       "      <th></th>\n",
       "      <th>id</th>\n",
       "      <th>number</th>\n",
       "      <th>district_id</th>\n",
       "      <th>candidate_id</th>\n",
       "      <th>votes</th>\n",
       "      <th>election_type_id</th>\n",
       "      <th>village_id</th>\n",
       "    </tr>\n",
       "  </thead>\n",
       "  <tbody>\n",
       "    <tr>\n",
       "      <th>53382</th>\n",
       "      <td>53383</td>\n",
       "      <td>3</td>\n",
       "      <td>7916</td>\n",
       "      <td>329</td>\n",
       "      <td>224</td>\n",
       "      <td>1</td>\n",
       "      <td>5108</td>\n",
       "    </tr>\n",
       "    <tr>\n",
       "      <th>53383</th>\n",
       "      <td>53384</td>\n",
       "      <td>3</td>\n",
       "      <td>7917</td>\n",
       "      <td>329</td>\n",
       "      <td>238</td>\n",
       "      <td>1</td>\n",
       "      <td>484</td>\n",
       "    </tr>\n",
       "    <tr>\n",
       "      <th>53384</th>\n",
       "      <td>53385</td>\n",
       "      <td>3</td>\n",
       "      <td>7918</td>\n",
       "      <td>329</td>\n",
       "      <td>364</td>\n",
       "      <td>1</td>\n",
       "      <td>5109</td>\n",
       "    </tr>\n",
       "  </tbody>\n",
       "</table>\n",
       "</div>"
      ],
      "text/plain": [
       "          id  number  district_id  candidate_id  votes  election_type_id  \\\n",
       "53382  53383       3         7916           329    224                 1   \n",
       "53383  53384       3         7917           329    238                 1   \n",
       "53384  53385       3         7918           329    364                 1   \n",
       "\n",
       "       village_id  \n",
       "53382        5108  \n",
       "53383         484  \n",
       "53384        5109  "
      ]
     },
     "execution_count": 5,
     "metadata": {},
     "output_type": "execute_result"
    }
   ],
   "source": [
    "presidents.tail(3)"
   ]
  },
  {
   "cell_type": "markdown",
   "metadata": {
    "slideshow": {
     "slide_type": "subslide"
    }
   },
   "source": [
    "## `describe()` returns the descriptive summary for numeric columns"
   ]
  },
  {
   "cell_type": "code",
   "execution_count": 6,
   "metadata": {
    "slideshow": {
     "slide_type": "-"
    }
   },
   "outputs": [
    {
     "data": {
      "text/html": [
       "<div>\n",
       "<style scoped>\n",
       "    .dataframe tbody tr th:only-of-type {\n",
       "        vertical-align: middle;\n",
       "    }\n",
       "\n",
       "    .dataframe tbody tr th {\n",
       "        vertical-align: top;\n",
       "    }\n",
       "\n",
       "    .dataframe thead th {\n",
       "        text-align: right;\n",
       "    }\n",
       "</style>\n",
       "<table border=\"1\" class=\"dataframe\">\n",
       "  <thead>\n",
       "    <tr style=\"text-align: right;\">\n",
       "      <th></th>\n",
       "      <th>id</th>\n",
       "      <th>number</th>\n",
       "      <th>district_id</th>\n",
       "      <th>candidate_id</th>\n",
       "      <th>votes</th>\n",
       "      <th>election_type_id</th>\n",
       "      <th>village_id</th>\n",
       "    </tr>\n",
       "  </thead>\n",
       "  <tbody>\n",
       "    <tr>\n",
       "      <th>count</th>\n",
       "      <td>53385.000000</td>\n",
       "      <td>53385.000000</td>\n",
       "      <td>53385.000000</td>\n",
       "      <td>53385.000000</td>\n",
       "      <td>53385.000000</td>\n",
       "      <td>53385.0</td>\n",
       "      <td>53385.000000</td>\n",
       "    </tr>\n",
       "    <tr>\n",
       "      <th>mean</th>\n",
       "      <td>26693.000000</td>\n",
       "      <td>2.000000</td>\n",
       "      <td>8898.000000</td>\n",
       "      <td>330.000000</td>\n",
       "      <td>261.262639</td>\n",
       "      <td>1.0</td>\n",
       "      <td>2161.525541</td>\n",
       "    </tr>\n",
       "    <tr>\n",
       "      <th>std</th>\n",
       "      <td>15411.066397</td>\n",
       "      <td>0.816504</td>\n",
       "      <td>5137.022125</td>\n",
       "      <td>0.816504</td>\n",
       "      <td>109.691107</td>\n",
       "      <td>0.0</td>\n",
       "      <td>1453.253065</td>\n",
       "    </tr>\n",
       "    <tr>\n",
       "      <th>min</th>\n",
       "      <td>1.000000</td>\n",
       "      <td>1.000000</td>\n",
       "      <td>1.000000</td>\n",
       "      <td>329.000000</td>\n",
       "      <td>1.000000</td>\n",
       "      <td>1.0</td>\n",
       "      <td>1.000000</td>\n",
       "    </tr>\n",
       "    <tr>\n",
       "      <th>25%</th>\n",
       "      <td>13347.000000</td>\n",
       "      <td>1.000000</td>\n",
       "      <td>4449.000000</td>\n",
       "      <td>329.000000</td>\n",
       "      <td>184.000000</td>\n",
       "      <td>1.0</td>\n",
       "      <td>904.000000</td>\n",
       "    </tr>\n",
       "    <tr>\n",
       "      <th>50%</th>\n",
       "      <td>26693.000000</td>\n",
       "      <td>2.000000</td>\n",
       "      <td>8898.000000</td>\n",
       "      <td>330.000000</td>\n",
       "      <td>256.000000</td>\n",
       "      <td>1.0</td>\n",
       "      <td>1866.000000</td>\n",
       "    </tr>\n",
       "    <tr>\n",
       "      <th>75%</th>\n",
       "      <td>40039.000000</td>\n",
       "      <td>3.000000</td>\n",
       "      <td>13347.000000</td>\n",
       "      <td>331.000000</td>\n",
       "      <td>333.000000</td>\n",
       "      <td>1.0</td>\n",
       "      <td>3321.000000</td>\n",
       "    </tr>\n",
       "    <tr>\n",
       "      <th>max</th>\n",
       "      <td>53385.000000</td>\n",
       "      <td>3.000000</td>\n",
       "      <td>17795.000000</td>\n",
       "      <td>331.000000</td>\n",
       "      <td>890.000000</td>\n",
       "      <td>1.0</td>\n",
       "      <td>5109.000000</td>\n",
       "    </tr>\n",
       "  </tbody>\n",
       "</table>\n",
       "</div>"
      ],
      "text/plain": [
       "                 id        number   district_id  candidate_id         votes  \\\n",
       "count  53385.000000  53385.000000  53385.000000  53385.000000  53385.000000   \n",
       "mean   26693.000000      2.000000   8898.000000    330.000000    261.262639   \n",
       "std    15411.066397      0.816504   5137.022125      0.816504    109.691107   \n",
       "min        1.000000      1.000000      1.000000    329.000000      1.000000   \n",
       "25%    13347.000000      1.000000   4449.000000    329.000000    184.000000   \n",
       "50%    26693.000000      2.000000   8898.000000    330.000000    256.000000   \n",
       "75%    40039.000000      3.000000  13347.000000    331.000000    333.000000   \n",
       "max    53385.000000      3.000000  17795.000000    331.000000    890.000000   \n",
       "\n",
       "       election_type_id    village_id  \n",
       "count           53385.0  53385.000000  \n",
       "mean                1.0   2161.525541  \n",
       "std                 0.0   1453.253065  \n",
       "min                 1.0      1.000000  \n",
       "25%                 1.0    904.000000  \n",
       "50%                 1.0   1866.000000  \n",
       "75%                 1.0   3321.000000  \n",
       "max                 1.0   5109.000000  "
      ]
     },
     "execution_count": 6,
     "metadata": {},
     "output_type": "execute_result"
    }
   ],
   "source": [
    "presidents.describe()"
   ]
  },
  {
   "cell_type": "markdown",
   "metadata": {
    "slideshow": {
     "slide_type": "subslide"
    }
   },
   "source": [
    "## `info()` returns the concise information of the dataframe"
   ]
  },
  {
   "cell_type": "code",
   "execution_count": 7,
   "metadata": {
    "slideshow": {
     "slide_type": "-"
    }
   },
   "outputs": [
    {
     "name": "stdout",
     "output_type": "stream",
     "text": [
      "<class 'pandas.core.frame.DataFrame'>\n",
      "RangeIndex: 53385 entries, 0 to 53384\n",
      "Data columns (total 7 columns):\n",
      " #   Column            Non-Null Count  Dtype\n",
      "---  ------            --------------  -----\n",
      " 0   id                53385 non-null  int64\n",
      " 1   number            53385 non-null  int64\n",
      " 2   district_id       53385 non-null  int64\n",
      " 3   candidate_id      53385 non-null  int64\n",
      " 4   votes             53385 non-null  int64\n",
      " 5   election_type_id  53385 non-null  int64\n",
      " 6   village_id        53385 non-null  int64\n",
      "dtypes: int64(7)\n",
      "memory usage: 2.9 MB\n"
     ]
    }
   ],
   "source": [
    "presidents.info()"
   ]
  },
  {
   "cell_type": "markdown",
   "metadata": {
    "slideshow": {
     "slide_type": "subslide"
    }
   },
   "source": [
    "## `set_index()` replaces current `Index` with a specific variable"
   ]
  },
  {
   "cell_type": "code",
   "execution_count": 8,
   "metadata": {},
   "outputs": [
    {
     "data": {
      "text/html": [
       "<div>\n",
       "<style scoped>\n",
       "    .dataframe tbody tr th:only-of-type {\n",
       "        vertical-align: middle;\n",
       "    }\n",
       "\n",
       "    .dataframe tbody tr th {\n",
       "        vertical-align: top;\n",
       "    }\n",
       "\n",
       "    .dataframe thead th {\n",
       "        text-align: right;\n",
       "    }\n",
       "</style>\n",
       "<table border=\"1\" class=\"dataframe\">\n",
       "  <thead>\n",
       "    <tr style=\"text-align: right;\">\n",
       "      <th></th>\n",
       "      <th>number</th>\n",
       "      <th>district_id</th>\n",
       "      <th>candidate_id</th>\n",
       "      <th>votes</th>\n",
       "      <th>election_type_id</th>\n",
       "      <th>village_id</th>\n",
       "    </tr>\n",
       "    <tr>\n",
       "      <th>id</th>\n",
       "      <th></th>\n",
       "      <th></th>\n",
       "      <th></th>\n",
       "      <th></th>\n",
       "      <th></th>\n",
       "      <th></th>\n",
       "    </tr>\n",
       "  </thead>\n",
       "  <tbody>\n",
       "    <tr>\n",
       "      <th>1</th>\n",
       "      <td>1</td>\n",
       "      <td>15035</td>\n",
       "      <td>330</td>\n",
       "      <td>146</td>\n",
       "      <td>1</td>\n",
       "      <td>1</td>\n",
       "    </tr>\n",
       "    <tr>\n",
       "      <th>2</th>\n",
       "      <td>1</td>\n",
       "      <td>15036</td>\n",
       "      <td>330</td>\n",
       "      <td>128</td>\n",
       "      <td>1</td>\n",
       "      <td>1</td>\n",
       "    </tr>\n",
       "    <tr>\n",
       "      <th>3</th>\n",
       "      <td>1</td>\n",
       "      <td>15037</td>\n",
       "      <td>330</td>\n",
       "      <td>239</td>\n",
       "      <td>1</td>\n",
       "      <td>2</td>\n",
       "    </tr>\n",
       "    <tr>\n",
       "      <th>4</th>\n",
       "      <td>1</td>\n",
       "      <td>15038</td>\n",
       "      <td>330</td>\n",
       "      <td>208</td>\n",
       "      <td>1</td>\n",
       "      <td>3</td>\n",
       "    </tr>\n",
       "    <tr>\n",
       "      <th>5</th>\n",
       "      <td>1</td>\n",
       "      <td>15039</td>\n",
       "      <td>330</td>\n",
       "      <td>210</td>\n",
       "      <td>1</td>\n",
       "      <td>4</td>\n",
       "    </tr>\n",
       "    <tr>\n",
       "      <th>...</th>\n",
       "      <td>...</td>\n",
       "      <td>...</td>\n",
       "      <td>...</td>\n",
       "      <td>...</td>\n",
       "      <td>...</td>\n",
       "      <td>...</td>\n",
       "    </tr>\n",
       "    <tr>\n",
       "      <th>53381</th>\n",
       "      <td>3</td>\n",
       "      <td>7914</td>\n",
       "      <td>329</td>\n",
       "      <td>192</td>\n",
       "      <td>1</td>\n",
       "      <td>794</td>\n",
       "    </tr>\n",
       "    <tr>\n",
       "      <th>53382</th>\n",
       "      <td>3</td>\n",
       "      <td>7915</td>\n",
       "      <td>329</td>\n",
       "      <td>268</td>\n",
       "      <td>1</td>\n",
       "      <td>5107</td>\n",
       "    </tr>\n",
       "    <tr>\n",
       "      <th>53383</th>\n",
       "      <td>3</td>\n",
       "      <td>7916</td>\n",
       "      <td>329</td>\n",
       "      <td>224</td>\n",
       "      <td>1</td>\n",
       "      <td>5108</td>\n",
       "    </tr>\n",
       "    <tr>\n",
       "      <th>53384</th>\n",
       "      <td>3</td>\n",
       "      <td>7917</td>\n",
       "      <td>329</td>\n",
       "      <td>238</td>\n",
       "      <td>1</td>\n",
       "      <td>484</td>\n",
       "    </tr>\n",
       "    <tr>\n",
       "      <th>53385</th>\n",
       "      <td>3</td>\n",
       "      <td>7918</td>\n",
       "      <td>329</td>\n",
       "      <td>364</td>\n",
       "      <td>1</td>\n",
       "      <td>5109</td>\n",
       "    </tr>\n",
       "  </tbody>\n",
       "</table>\n",
       "<p>53385 rows × 6 columns</p>\n",
       "</div>"
      ],
      "text/plain": [
       "       number  district_id  candidate_id  votes  election_type_id  village_id\n",
       "id                                                                           \n",
       "1           1        15035           330    146                 1           1\n",
       "2           1        15036           330    128                 1           1\n",
       "3           1        15037           330    239                 1           2\n",
       "4           1        15038           330    208                 1           3\n",
       "5           1        15039           330    210                 1           4\n",
       "...       ...          ...           ...    ...               ...         ...\n",
       "53381       3         7914           329    192                 1         794\n",
       "53382       3         7915           329    268                 1        5107\n",
       "53383       3         7916           329    224                 1        5108\n",
       "53384       3         7917           329    238                 1         484\n",
       "53385       3         7918           329    364                 1        5109\n",
       "\n",
       "[53385 rows x 6 columns]"
      ]
     },
     "execution_count": 8,
     "metadata": {},
     "output_type": "execute_result"
    }
   ],
   "source": [
    "presidents.set_index(\"id\")"
   ]
  },
  {
   "cell_type": "markdown",
   "metadata": {
    "slideshow": {
     "slide_type": "subslide"
    }
   },
   "source": [
    "## `reset_index()` resets current `Index` with default `RangeIndex` "
   ]
  },
  {
   "cell_type": "code",
   "execution_count": 9,
   "metadata": {},
   "outputs": [
    {
     "data": {
      "text/html": [
       "<div>\n",
       "<style scoped>\n",
       "    .dataframe tbody tr th:only-of-type {\n",
       "        vertical-align: middle;\n",
       "    }\n",
       "\n",
       "    .dataframe tbody tr th {\n",
       "        vertical-align: top;\n",
       "    }\n",
       "\n",
       "    .dataframe thead th {\n",
       "        text-align: right;\n",
       "    }\n",
       "</style>\n",
       "<table border=\"1\" class=\"dataframe\">\n",
       "  <thead>\n",
       "    <tr style=\"text-align: right;\">\n",
       "      <th></th>\n",
       "      <th>id</th>\n",
       "      <th>number</th>\n",
       "      <th>district_id</th>\n",
       "      <th>candidate_id</th>\n",
       "      <th>votes</th>\n",
       "      <th>election_type_id</th>\n",
       "      <th>village_id</th>\n",
       "    </tr>\n",
       "  </thead>\n",
       "  <tbody>\n",
       "    <tr>\n",
       "      <th>0</th>\n",
       "      <td>1</td>\n",
       "      <td>1</td>\n",
       "      <td>15035</td>\n",
       "      <td>330</td>\n",
       "      <td>146</td>\n",
       "      <td>1</td>\n",
       "      <td>1</td>\n",
       "    </tr>\n",
       "    <tr>\n",
       "      <th>1</th>\n",
       "      <td>2</td>\n",
       "      <td>1</td>\n",
       "      <td>15036</td>\n",
       "      <td>330</td>\n",
       "      <td>128</td>\n",
       "      <td>1</td>\n",
       "      <td>1</td>\n",
       "    </tr>\n",
       "    <tr>\n",
       "      <th>2</th>\n",
       "      <td>3</td>\n",
       "      <td>1</td>\n",
       "      <td>15037</td>\n",
       "      <td>330</td>\n",
       "      <td>239</td>\n",
       "      <td>1</td>\n",
       "      <td>2</td>\n",
       "    </tr>\n",
       "    <tr>\n",
       "      <th>3</th>\n",
       "      <td>4</td>\n",
       "      <td>1</td>\n",
       "      <td>15038</td>\n",
       "      <td>330</td>\n",
       "      <td>208</td>\n",
       "      <td>1</td>\n",
       "      <td>3</td>\n",
       "    </tr>\n",
       "    <tr>\n",
       "      <th>4</th>\n",
       "      <td>5</td>\n",
       "      <td>1</td>\n",
       "      <td>15039</td>\n",
       "      <td>330</td>\n",
       "      <td>210</td>\n",
       "      <td>1</td>\n",
       "      <td>4</td>\n",
       "    </tr>\n",
       "    <tr>\n",
       "      <th>...</th>\n",
       "      <td>...</td>\n",
       "      <td>...</td>\n",
       "      <td>...</td>\n",
       "      <td>...</td>\n",
       "      <td>...</td>\n",
       "      <td>...</td>\n",
       "      <td>...</td>\n",
       "    </tr>\n",
       "    <tr>\n",
       "      <th>53380</th>\n",
       "      <td>53381</td>\n",
       "      <td>3</td>\n",
       "      <td>7914</td>\n",
       "      <td>329</td>\n",
       "      <td>192</td>\n",
       "      <td>1</td>\n",
       "      <td>794</td>\n",
       "    </tr>\n",
       "    <tr>\n",
       "      <th>53381</th>\n",
       "      <td>53382</td>\n",
       "      <td>3</td>\n",
       "      <td>7915</td>\n",
       "      <td>329</td>\n",
       "      <td>268</td>\n",
       "      <td>1</td>\n",
       "      <td>5107</td>\n",
       "    </tr>\n",
       "    <tr>\n",
       "      <th>53382</th>\n",
       "      <td>53383</td>\n",
       "      <td>3</td>\n",
       "      <td>7916</td>\n",
       "      <td>329</td>\n",
       "      <td>224</td>\n",
       "      <td>1</td>\n",
       "      <td>5108</td>\n",
       "    </tr>\n",
       "    <tr>\n",
       "      <th>53383</th>\n",
       "      <td>53384</td>\n",
       "      <td>3</td>\n",
       "      <td>7917</td>\n",
       "      <td>329</td>\n",
       "      <td>238</td>\n",
       "      <td>1</td>\n",
       "      <td>484</td>\n",
       "    </tr>\n",
       "    <tr>\n",
       "      <th>53384</th>\n",
       "      <td>53385</td>\n",
       "      <td>3</td>\n",
       "      <td>7918</td>\n",
       "      <td>329</td>\n",
       "      <td>364</td>\n",
       "      <td>1</td>\n",
       "      <td>5109</td>\n",
       "    </tr>\n",
       "  </tbody>\n",
       "</table>\n",
       "<p>53385 rows × 7 columns</p>\n",
       "</div>"
      ],
      "text/plain": [
       "          id  number  district_id  candidate_id  votes  election_type_id  \\\n",
       "0          1       1        15035           330    146                 1   \n",
       "1          2       1        15036           330    128                 1   \n",
       "2          3       1        15037           330    239                 1   \n",
       "3          4       1        15038           330    208                 1   \n",
       "4          5       1        15039           330    210                 1   \n",
       "...      ...     ...          ...           ...    ...               ...   \n",
       "53380  53381       3         7914           329    192                 1   \n",
       "53381  53382       3         7915           329    268                 1   \n",
       "53382  53383       3         7916           329    224                 1   \n",
       "53383  53384       3         7917           329    238                 1   \n",
       "53384  53385       3         7918           329    364                 1   \n",
       "\n",
       "       village_id  \n",
       "0               1  \n",
       "1               1  \n",
       "2               2  \n",
       "3               3  \n",
       "4               4  \n",
       "...           ...  \n",
       "53380         794  \n",
       "53381        5107  \n",
       "53382        5108  \n",
       "53383         484  \n",
       "53384        5109  \n",
       "\n",
       "[53385 rows x 7 columns]"
      ]
     },
     "execution_count": 9,
     "metadata": {},
     "output_type": "execute_result"
    }
   ],
   "source": [
    "presidents.set_index(\"id\").reset_index()"
   ]
  },
  {
   "cell_type": "markdown",
   "metadata": {
    "slideshow": {
     "slide_type": "slide"
    }
   },
   "source": [
    "## Basic Wrangling"
   ]
  },
  {
   "cell_type": "markdown",
   "metadata": {
    "slideshow": {
     "slide_type": "subslide"
    }
   },
   "source": [
    "## Basic wrangling is like writing SQL queries\n",
    "\n",
    "- Selecting: `SELECT FROM`\n",
    "- Filtering: `WHERE`\n",
    "- Subset: `SELECT FROM WHERE`"
   ]
  },
  {
   "cell_type": "markdown",
   "metadata": {
    "slideshow": {
     "slide_type": "subslide"
    }
   },
   "source": [
    "## Basic wrangling is like writing SQL queries(cont'd)\n",
    "\n",
    "- Indexing\n",
    "- Sorting: `ORDER BY`\n",
    "- Deriving\n",
    "- Summarizing\n",
    "- Summarizing and Grouping: `GROUP BY`"
   ]
  },
  {
   "cell_type": "markdown",
   "metadata": {
    "slideshow": {
     "slide_type": "subslide"
    }
   },
   "source": [
    "## Selecting a column as `Series`"
   ]
  },
  {
   "cell_type": "code",
   "execution_count": 10,
   "metadata": {},
   "outputs": [
    {
     "name": "stdout",
     "output_type": "stream",
     "text": [
      "0        146\n",
      "1        128\n",
      "2        239\n",
      "3        208\n",
      "4        210\n",
      "        ... \n",
      "53380    192\n",
      "53381    268\n",
      "53382    224\n",
      "53383    238\n",
      "53384    364\n",
      "Name: votes, Length: 53385, dtype: int64\n",
      "<class 'pandas.core.series.Series'>\n"
     ]
    }
   ],
   "source": [
    "print(presidents[\"votes\"])\n",
    "print(type(presidents[\"votes\"]))"
   ]
  },
  {
   "cell_type": "markdown",
   "metadata": {
    "slideshow": {
     "slide_type": "subslide"
    }
   },
   "source": [
    "## Selecting a column as `DataFrame`"
   ]
  },
  {
   "cell_type": "code",
   "execution_count": 11,
   "metadata": {},
   "outputs": [
    {
     "name": "stdout",
     "output_type": "stream",
     "text": [
      "<class 'pandas.core.frame.DataFrame'>\n"
     ]
    },
    {
     "data": {
      "text/html": [
       "<div>\n",
       "<style scoped>\n",
       "    .dataframe tbody tr th:only-of-type {\n",
       "        vertical-align: middle;\n",
       "    }\n",
       "\n",
       "    .dataframe tbody tr th {\n",
       "        vertical-align: top;\n",
       "    }\n",
       "\n",
       "    .dataframe thead th {\n",
       "        text-align: right;\n",
       "    }\n",
       "</style>\n",
       "<table border=\"1\" class=\"dataframe\">\n",
       "  <thead>\n",
       "    <tr style=\"text-align: right;\">\n",
       "      <th></th>\n",
       "      <th>votes</th>\n",
       "    </tr>\n",
       "  </thead>\n",
       "  <tbody>\n",
       "    <tr>\n",
       "      <th>0</th>\n",
       "      <td>146</td>\n",
       "    </tr>\n",
       "    <tr>\n",
       "      <th>1</th>\n",
       "      <td>128</td>\n",
       "    </tr>\n",
       "    <tr>\n",
       "      <th>2</th>\n",
       "      <td>239</td>\n",
       "    </tr>\n",
       "    <tr>\n",
       "      <th>3</th>\n",
       "      <td>208</td>\n",
       "    </tr>\n",
       "    <tr>\n",
       "      <th>4</th>\n",
       "      <td>210</td>\n",
       "    </tr>\n",
       "    <tr>\n",
       "      <th>...</th>\n",
       "      <td>...</td>\n",
       "    </tr>\n",
       "    <tr>\n",
       "      <th>53380</th>\n",
       "      <td>192</td>\n",
       "    </tr>\n",
       "    <tr>\n",
       "      <th>53381</th>\n",
       "      <td>268</td>\n",
       "    </tr>\n",
       "    <tr>\n",
       "      <th>53382</th>\n",
       "      <td>224</td>\n",
       "    </tr>\n",
       "    <tr>\n",
       "      <th>53383</th>\n",
       "      <td>238</td>\n",
       "    </tr>\n",
       "    <tr>\n",
       "      <th>53384</th>\n",
       "      <td>364</td>\n",
       "    </tr>\n",
       "  </tbody>\n",
       "</table>\n",
       "<p>53385 rows × 1 columns</p>\n",
       "</div>"
      ],
      "text/plain": [
       "       votes\n",
       "0        146\n",
       "1        128\n",
       "2        239\n",
       "3        208\n",
       "4        210\n",
       "...      ...\n",
       "53380    192\n",
       "53381    268\n",
       "53382    224\n",
       "53383    238\n",
       "53384    364\n",
       "\n",
       "[53385 rows x 1 columns]"
      ]
     },
     "execution_count": 11,
     "metadata": {},
     "output_type": "execute_result"
    }
   ],
   "source": [
    "print(type(presidents[[\"votes\"]]))\n",
    "presidents[[\"votes\"]]"
   ]
  },
  {
   "cell_type": "markdown",
   "metadata": {
    "slideshow": {
     "slide_type": "subslide"
    }
   },
   "source": [
    "## Selecting multiple columns as `DataFrame`, for sure"
   ]
  },
  {
   "cell_type": "code",
   "execution_count": 12,
   "metadata": {},
   "outputs": [
    {
     "data": {
      "text/html": [
       "<div>\n",
       "<style scoped>\n",
       "    .dataframe tbody tr th:only-of-type {\n",
       "        vertical-align: middle;\n",
       "    }\n",
       "\n",
       "    .dataframe tbody tr th {\n",
       "        vertical-align: top;\n",
       "    }\n",
       "\n",
       "    .dataframe thead th {\n",
       "        text-align: right;\n",
       "    }\n",
       "</style>\n",
       "<table border=\"1\" class=\"dataframe\">\n",
       "  <thead>\n",
       "    <tr style=\"text-align: right;\">\n",
       "      <th></th>\n",
       "      <th>number</th>\n",
       "      <th>votes</th>\n",
       "    </tr>\n",
       "  </thead>\n",
       "  <tbody>\n",
       "    <tr>\n",
       "      <th>0</th>\n",
       "      <td>1</td>\n",
       "      <td>146</td>\n",
       "    </tr>\n",
       "    <tr>\n",
       "      <th>1</th>\n",
       "      <td>1</td>\n",
       "      <td>128</td>\n",
       "    </tr>\n",
       "    <tr>\n",
       "      <th>2</th>\n",
       "      <td>1</td>\n",
       "      <td>239</td>\n",
       "    </tr>\n",
       "    <tr>\n",
       "      <th>3</th>\n",
       "      <td>1</td>\n",
       "      <td>208</td>\n",
       "    </tr>\n",
       "    <tr>\n",
       "      <th>4</th>\n",
       "      <td>1</td>\n",
       "      <td>210</td>\n",
       "    </tr>\n",
       "    <tr>\n",
       "      <th>...</th>\n",
       "      <td>...</td>\n",
       "      <td>...</td>\n",
       "    </tr>\n",
       "    <tr>\n",
       "      <th>53380</th>\n",
       "      <td>3</td>\n",
       "      <td>192</td>\n",
       "    </tr>\n",
       "    <tr>\n",
       "      <th>53381</th>\n",
       "      <td>3</td>\n",
       "      <td>268</td>\n",
       "    </tr>\n",
       "    <tr>\n",
       "      <th>53382</th>\n",
       "      <td>3</td>\n",
       "      <td>224</td>\n",
       "    </tr>\n",
       "    <tr>\n",
       "      <th>53383</th>\n",
       "      <td>3</td>\n",
       "      <td>238</td>\n",
       "    </tr>\n",
       "    <tr>\n",
       "      <th>53384</th>\n",
       "      <td>3</td>\n",
       "      <td>364</td>\n",
       "    </tr>\n",
       "  </tbody>\n",
       "</table>\n",
       "<p>53385 rows × 2 columns</p>\n",
       "</div>"
      ],
      "text/plain": [
       "       number  votes\n",
       "0           1    146\n",
       "1           1    128\n",
       "2           1    239\n",
       "3           1    208\n",
       "4           1    210\n",
       "...       ...    ...\n",
       "53380       3    192\n",
       "53381       3    268\n",
       "53382       3    224\n",
       "53383       3    238\n",
       "53384       3    364\n",
       "\n",
       "[53385 rows x 2 columns]"
      ]
     },
     "execution_count": 12,
     "metadata": {},
     "output_type": "execute_result"
    }
   ],
   "source": [
    "presidents[[\"number\", \"votes\"]]"
   ]
  },
  {
   "cell_type": "markdown",
   "metadata": {
    "slideshow": {
     "slide_type": "subslide"
    }
   },
   "source": [
    "## Filtering rows with conditional statements"
   ]
  },
  {
   "cell_type": "code",
   "execution_count": 13,
   "metadata": {},
   "outputs": [
    {
     "data": {
      "text/html": [
       "<div>\n",
       "<style scoped>\n",
       "    .dataframe tbody tr th:only-of-type {\n",
       "        vertical-align: middle;\n",
       "    }\n",
       "\n",
       "    .dataframe tbody tr th {\n",
       "        vertical-align: top;\n",
       "    }\n",
       "\n",
       "    .dataframe thead th {\n",
       "        text-align: right;\n",
       "    }\n",
       "</style>\n",
       "<table border=\"1\" class=\"dataframe\">\n",
       "  <thead>\n",
       "    <tr style=\"text-align: right;\">\n",
       "      <th></th>\n",
       "      <th>id</th>\n",
       "      <th>number</th>\n",
       "      <th>district_id</th>\n",
       "      <th>candidate_id</th>\n",
       "      <th>votes</th>\n",
       "      <th>election_type_id</th>\n",
       "      <th>village_id</th>\n",
       "    </tr>\n",
       "  </thead>\n",
       "  <tbody>\n",
       "    <tr>\n",
       "      <th>10</th>\n",
       "      <td>11</td>\n",
       "      <td>2</td>\n",
       "      <td>15035</td>\n",
       "      <td>331</td>\n",
       "      <td>56</td>\n",
       "      <td>1</td>\n",
       "      <td>1</td>\n",
       "    </tr>\n",
       "    <tr>\n",
       "      <th>11</th>\n",
       "      <td>12</td>\n",
       "      <td>2</td>\n",
       "      <td>15036</td>\n",
       "      <td>331</td>\n",
       "      <td>67</td>\n",
       "      <td>1</td>\n",
       "      <td>1</td>\n",
       "    </tr>\n",
       "    <tr>\n",
       "      <th>12</th>\n",
       "      <td>13</td>\n",
       "      <td>2</td>\n",
       "      <td>15037</td>\n",
       "      <td>331</td>\n",
       "      <td>103</td>\n",
       "      <td>1</td>\n",
       "      <td>2</td>\n",
       "    </tr>\n",
       "    <tr>\n",
       "      <th>13</th>\n",
       "      <td>14</td>\n",
       "      <td>2</td>\n",
       "      <td>15038</td>\n",
       "      <td>331</td>\n",
       "      <td>82</td>\n",
       "      <td>1</td>\n",
       "      <td>3</td>\n",
       "    </tr>\n",
       "    <tr>\n",
       "      <th>14</th>\n",
       "      <td>15</td>\n",
       "      <td>2</td>\n",
       "      <td>15039</td>\n",
       "      <td>331</td>\n",
       "      <td>84</td>\n",
       "      <td>1</td>\n",
       "      <td>4</td>\n",
       "    </tr>\n",
       "    <tr>\n",
       "      <th>...</th>\n",
       "      <td>...</td>\n",
       "      <td>...</td>\n",
       "      <td>...</td>\n",
       "      <td>...</td>\n",
       "      <td>...</td>\n",
       "      <td>...</td>\n",
       "      <td>...</td>\n",
       "    </tr>\n",
       "    <tr>\n",
       "      <th>51996</th>\n",
       "      <td>51997</td>\n",
       "      <td>2</td>\n",
       "      <td>7914</td>\n",
       "      <td>331</td>\n",
       "      <td>83</td>\n",
       "      <td>1</td>\n",
       "      <td>794</td>\n",
       "    </tr>\n",
       "    <tr>\n",
       "      <th>51997</th>\n",
       "      <td>51998</td>\n",
       "      <td>2</td>\n",
       "      <td>7915</td>\n",
       "      <td>331</td>\n",
       "      <td>58</td>\n",
       "      <td>1</td>\n",
       "      <td>5107</td>\n",
       "    </tr>\n",
       "    <tr>\n",
       "      <th>51998</th>\n",
       "      <td>51999</td>\n",
       "      <td>2</td>\n",
       "      <td>7916</td>\n",
       "      <td>331</td>\n",
       "      <td>60</td>\n",
       "      <td>1</td>\n",
       "      <td>5108</td>\n",
       "    </tr>\n",
       "    <tr>\n",
       "      <th>51999</th>\n",
       "      <td>52000</td>\n",
       "      <td>2</td>\n",
       "      <td>7917</td>\n",
       "      <td>331</td>\n",
       "      <td>48</td>\n",
       "      <td>1</td>\n",
       "      <td>484</td>\n",
       "    </tr>\n",
       "    <tr>\n",
       "      <th>52000</th>\n",
       "      <td>52001</td>\n",
       "      <td>2</td>\n",
       "      <td>7918</td>\n",
       "      <td>331</td>\n",
       "      <td>183</td>\n",
       "      <td>1</td>\n",
       "      <td>5109</td>\n",
       "    </tr>\n",
       "  </tbody>\n",
       "</table>\n",
       "<p>17795 rows × 7 columns</p>\n",
       "</div>"
      ],
      "text/plain": [
       "          id  number  district_id  candidate_id  votes  election_type_id  \\\n",
       "10        11       2        15035           331     56                 1   \n",
       "11        12       2        15036           331     67                 1   \n",
       "12        13       2        15037           331    103                 1   \n",
       "13        14       2        15038           331     82                 1   \n",
       "14        15       2        15039           331     84                 1   \n",
       "...      ...     ...          ...           ...    ...               ...   \n",
       "51996  51997       2         7914           331     83                 1   \n",
       "51997  51998       2         7915           331     58                 1   \n",
       "51998  51999       2         7916           331     60                 1   \n",
       "51999  52000       2         7917           331     48                 1   \n",
       "52000  52001       2         7918           331    183                 1   \n",
       "\n",
       "       village_id  \n",
       "10              1  \n",
       "11              1  \n",
       "12              2  \n",
       "13              3  \n",
       "14              4  \n",
       "...           ...  \n",
       "51996         794  \n",
       "51997        5107  \n",
       "51998        5108  \n",
       "51999         484  \n",
       "52000        5109  \n",
       "\n",
       "[17795 rows x 7 columns]"
      ]
     },
     "execution_count": 13,
     "metadata": {},
     "output_type": "execute_result"
    }
   ],
   "source": [
    "number_two = presidents[\"number\"] == 2\n",
    "presidents[number_two]"
   ]
  },
  {
   "cell_type": "markdown",
   "metadata": {
    "slideshow": {
     "slide_type": "subslide"
    }
   },
   "source": [
    "## Subsetting columns and rows simultaneously"
   ]
  },
  {
   "cell_type": "code",
   "execution_count": 14,
   "metadata": {},
   "outputs": [
    {
     "data": {
      "text/html": [
       "<div>\n",
       "<style scoped>\n",
       "    .dataframe tbody tr th:only-of-type {\n",
       "        vertical-align: middle;\n",
       "    }\n",
       "\n",
       "    .dataframe tbody tr th {\n",
       "        vertical-align: top;\n",
       "    }\n",
       "\n",
       "    .dataframe thead th {\n",
       "        text-align: right;\n",
       "    }\n",
       "</style>\n",
       "<table border=\"1\" class=\"dataframe\">\n",
       "  <thead>\n",
       "    <tr style=\"text-align: right;\">\n",
       "      <th></th>\n",
       "      <th>number</th>\n",
       "      <th>votes</th>\n",
       "    </tr>\n",
       "  </thead>\n",
       "  <tbody>\n",
       "    <tr>\n",
       "      <th>10</th>\n",
       "      <td>2</td>\n",
       "      <td>56</td>\n",
       "    </tr>\n",
       "    <tr>\n",
       "      <th>11</th>\n",
       "      <td>2</td>\n",
       "      <td>67</td>\n",
       "    </tr>\n",
       "    <tr>\n",
       "      <th>12</th>\n",
       "      <td>2</td>\n",
       "      <td>103</td>\n",
       "    </tr>\n",
       "    <tr>\n",
       "      <th>13</th>\n",
       "      <td>2</td>\n",
       "      <td>82</td>\n",
       "    </tr>\n",
       "    <tr>\n",
       "      <th>14</th>\n",
       "      <td>2</td>\n",
       "      <td>84</td>\n",
       "    </tr>\n",
       "    <tr>\n",
       "      <th>...</th>\n",
       "      <td>...</td>\n",
       "      <td>...</td>\n",
       "    </tr>\n",
       "    <tr>\n",
       "      <th>51996</th>\n",
       "      <td>2</td>\n",
       "      <td>83</td>\n",
       "    </tr>\n",
       "    <tr>\n",
       "      <th>51997</th>\n",
       "      <td>2</td>\n",
       "      <td>58</td>\n",
       "    </tr>\n",
       "    <tr>\n",
       "      <th>51998</th>\n",
       "      <td>2</td>\n",
       "      <td>60</td>\n",
       "    </tr>\n",
       "    <tr>\n",
       "      <th>51999</th>\n",
       "      <td>2</td>\n",
       "      <td>48</td>\n",
       "    </tr>\n",
       "    <tr>\n",
       "      <th>52000</th>\n",
       "      <td>2</td>\n",
       "      <td>183</td>\n",
       "    </tr>\n",
       "  </tbody>\n",
       "</table>\n",
       "<p>17795 rows × 2 columns</p>\n",
       "</div>"
      ],
      "text/plain": [
       "       number  votes\n",
       "10          2     56\n",
       "11          2     67\n",
       "12          2    103\n",
       "13          2     82\n",
       "14          2     84\n",
       "...       ...    ...\n",
       "51996       2     83\n",
       "51997       2     58\n",
       "51998       2     60\n",
       "51999       2     48\n",
       "52000       2    183\n",
       "\n",
       "[17795 rows x 2 columns]"
      ]
     },
     "execution_count": 14,
     "metadata": {},
     "output_type": "execute_result"
    }
   ],
   "source": [
    "cols_to_select = [\"number\", \"votes\"]\n",
    "rows_to_filter = presidents[\"number\"] == 2\n",
    "presidents[rows_to_filter][cols_to_select]\n",
    "presidents[cols_to_select][rows_to_filter]"
   ]
  },
  {
   "cell_type": "markdown",
   "metadata": {
    "slideshow": {
     "slide_type": "subslide"
    }
   },
   "source": [
    "## Indexing `DataFrame` with\n",
    "\n",
    "- `loc[]`\n",
    "- `iloc[]`"
   ]
  },
  {
   "cell_type": "markdown",
   "metadata": {
    "slideshow": {
     "slide_type": "subslide"
    }
   },
   "source": [
    "## `loc[]` is indexing `DataFrame` with row/column `Index` "
   ]
  },
  {
   "cell_type": "code",
   "execution_count": 15,
   "metadata": {},
   "outputs": [
    {
     "data": {
      "text/html": [
       "<div>\n",
       "<style scoped>\n",
       "    .dataframe tbody tr th:only-of-type {\n",
       "        vertical-align: middle;\n",
       "    }\n",
       "\n",
       "    .dataframe tbody tr th {\n",
       "        vertical-align: top;\n",
       "    }\n",
       "\n",
       "    .dataframe thead th {\n",
       "        text-align: right;\n",
       "    }\n",
       "</style>\n",
       "<table border=\"1\" class=\"dataframe\">\n",
       "  <thead>\n",
       "    <tr style=\"text-align: right;\">\n",
       "      <th></th>\n",
       "      <th>number</th>\n",
       "      <th>votes</th>\n",
       "    </tr>\n",
       "  </thead>\n",
       "  <tbody>\n",
       "    <tr>\n",
       "      <th>0</th>\n",
       "      <td>1</td>\n",
       "      <td>146</td>\n",
       "    </tr>\n",
       "    <tr>\n",
       "      <th>1</th>\n",
       "      <td>1</td>\n",
       "      <td>128</td>\n",
       "    </tr>\n",
       "  </tbody>\n",
       "</table>\n",
       "</div>"
      ],
      "text/plain": [
       "   number  votes\n",
       "0       1    146\n",
       "1       1    128"
      ]
     },
     "execution_count": 15,
     "metadata": {},
     "output_type": "execute_result"
    }
   ],
   "source": [
    "presidents.loc[:, [\"number\", \"votes\"]]\n",
    "presidents.loc[[0, 1], :]\n",
    "presidents.loc[[0, 1], [\"number\", \"votes\"]]"
   ]
  },
  {
   "cell_type": "markdown",
   "metadata": {
    "slideshow": {
     "slide_type": "subslide"
    }
   },
   "source": [
    "## `iloc[]` is indexing `DataFrame` with integer location"
   ]
  },
  {
   "cell_type": "code",
   "execution_count": 16,
   "metadata": {},
   "outputs": [
    {
     "data": {
      "text/html": [
       "<div>\n",
       "<style scoped>\n",
       "    .dataframe tbody tr th:only-of-type {\n",
       "        vertical-align: middle;\n",
       "    }\n",
       "\n",
       "    .dataframe tbody tr th {\n",
       "        vertical-align: top;\n",
       "    }\n",
       "\n",
       "    .dataframe thead th {\n",
       "        text-align: right;\n",
       "    }\n",
       "</style>\n",
       "<table border=\"1\" class=\"dataframe\">\n",
       "  <thead>\n",
       "    <tr style=\"text-align: right;\">\n",
       "      <th></th>\n",
       "      <th>number</th>\n",
       "      <th>votes</th>\n",
       "    </tr>\n",
       "  </thead>\n",
       "  <tbody>\n",
       "    <tr>\n",
       "      <th>0</th>\n",
       "      <td>1</td>\n",
       "      <td>146</td>\n",
       "    </tr>\n",
       "    <tr>\n",
       "      <th>1</th>\n",
       "      <td>1</td>\n",
       "      <td>128</td>\n",
       "    </tr>\n",
       "  </tbody>\n",
       "</table>\n",
       "</div>"
      ],
      "text/plain": [
       "   number  votes\n",
       "0       1    146\n",
       "1       1    128"
      ]
     },
     "execution_count": 16,
     "metadata": {},
     "output_type": "execute_result"
    }
   ],
   "source": [
    "presidents.iloc[:, [1, 4]]\n",
    "presidents.iloc[[0, 1], :]\n",
    "presidents.iloc[[0, 1], [1, 4]]"
   ]
  },
  {
   "cell_type": "markdown",
   "metadata": {
    "slideshow": {
     "slide_type": "subslide"
    }
   },
   "source": [
    "## Sorting `DataFrame` with\n",
    "\n",
    "- `sort_values`\n",
    "- `sort_index`"
   ]
  },
  {
   "cell_type": "markdown",
   "metadata": {
    "slideshow": {
     "slide_type": "subslide"
    }
   },
   "source": [
    "## `sort_values` sorts `DataFrame` with specific columns"
   ]
  },
  {
   "cell_type": "code",
   "execution_count": 17,
   "metadata": {},
   "outputs": [
    {
     "data": {
      "text/html": [
       "<div>\n",
       "<style scoped>\n",
       "    .dataframe tbody tr th:only-of-type {\n",
       "        vertical-align: middle;\n",
       "    }\n",
       "\n",
       "    .dataframe tbody tr th {\n",
       "        vertical-align: top;\n",
       "    }\n",
       "\n",
       "    .dataframe thead th {\n",
       "        text-align: right;\n",
       "    }\n",
       "</style>\n",
       "<table border=\"1\" class=\"dataframe\">\n",
       "  <thead>\n",
       "    <tr style=\"text-align: right;\">\n",
       "      <th></th>\n",
       "      <th>id</th>\n",
       "      <th>number</th>\n",
       "      <th>district_id</th>\n",
       "      <th>candidate_id</th>\n",
       "      <th>votes</th>\n",
       "      <th>election_type_id</th>\n",
       "      <th>village_id</th>\n",
       "    </tr>\n",
       "  </thead>\n",
       "  <tbody>\n",
       "    <tr>\n",
       "      <th>35739</th>\n",
       "      <td>35740</td>\n",
       "      <td>3</td>\n",
       "      <td>1</td>\n",
       "      <td>329</td>\n",
       "      <td>146</td>\n",
       "      <td>1</td>\n",
       "      <td>38</td>\n",
       "    </tr>\n",
       "    <tr>\n",
       "      <th>35740</th>\n",
       "      <td>35741</td>\n",
       "      <td>3</td>\n",
       "      <td>2</td>\n",
       "      <td>329</td>\n",
       "      <td>55</td>\n",
       "      <td>1</td>\n",
       "      <td>289</td>\n",
       "    </tr>\n",
       "    <tr>\n",
       "      <th>35741</th>\n",
       "      <td>35742</td>\n",
       "      <td>3</td>\n",
       "      <td>3</td>\n",
       "      <td>329</td>\n",
       "      <td>51</td>\n",
       "      <td>1</td>\n",
       "      <td>289</td>\n",
       "    </tr>\n",
       "    <tr>\n",
       "      <th>35742</th>\n",
       "      <td>35743</td>\n",
       "      <td>3</td>\n",
       "      <td>4</td>\n",
       "      <td>329</td>\n",
       "      <td>85</td>\n",
       "      <td>1</td>\n",
       "      <td>3780</td>\n",
       "    </tr>\n",
       "    <tr>\n",
       "      <th>35743</th>\n",
       "      <td>35744</td>\n",
       "      <td>3</td>\n",
       "      <td>5</td>\n",
       "      <td>329</td>\n",
       "      <td>85</td>\n",
       "      <td>1</td>\n",
       "      <td>3780</td>\n",
       "    </tr>\n",
       "    <tr>\n",
       "      <th>...</th>\n",
       "      <td>...</td>\n",
       "      <td>...</td>\n",
       "      <td>...</td>\n",
       "      <td>...</td>\n",
       "      <td>...</td>\n",
       "      <td>...</td>\n",
       "      <td>...</td>\n",
       "    </tr>\n",
       "    <tr>\n",
       "      <th>44212</th>\n",
       "      <td>44213</td>\n",
       "      <td>1</td>\n",
       "      <td>17791</td>\n",
       "      <td>330</td>\n",
       "      <td>129</td>\n",
       "      <td>1</td>\n",
       "      <td>4703</td>\n",
       "    </tr>\n",
       "    <tr>\n",
       "      <th>44213</th>\n",
       "      <td>44214</td>\n",
       "      <td>1</td>\n",
       "      <td>17792</td>\n",
       "      <td>330</td>\n",
       "      <td>126</td>\n",
       "      <td>1</td>\n",
       "      <td>2987</td>\n",
       "    </tr>\n",
       "    <tr>\n",
       "      <th>44214</th>\n",
       "      <td>44215</td>\n",
       "      <td>1</td>\n",
       "      <td>17793</td>\n",
       "      <td>330</td>\n",
       "      <td>137</td>\n",
       "      <td>1</td>\n",
       "      <td>4704</td>\n",
       "    </tr>\n",
       "    <tr>\n",
       "      <th>44215</th>\n",
       "      <td>44216</td>\n",
       "      <td>1</td>\n",
       "      <td>17794</td>\n",
       "      <td>330</td>\n",
       "      <td>113</td>\n",
       "      <td>1</td>\n",
       "      <td>4705</td>\n",
       "    </tr>\n",
       "    <tr>\n",
       "      <th>44216</th>\n",
       "      <td>44217</td>\n",
       "      <td>1</td>\n",
       "      <td>17795</td>\n",
       "      <td>330</td>\n",
       "      <td>66</td>\n",
       "      <td>1</td>\n",
       "      <td>2756</td>\n",
       "    </tr>\n",
       "  </tbody>\n",
       "</table>\n",
       "<p>53385 rows × 7 columns</p>\n",
       "</div>"
      ],
      "text/plain": [
       "          id  number  district_id  candidate_id  votes  election_type_id  \\\n",
       "35739  35740       3            1           329    146                 1   \n",
       "35740  35741       3            2           329     55                 1   \n",
       "35741  35742       3            3           329     51                 1   \n",
       "35742  35743       3            4           329     85                 1   \n",
       "35743  35744       3            5           329     85                 1   \n",
       "...      ...     ...          ...           ...    ...               ...   \n",
       "44212  44213       1        17791           330    129                 1   \n",
       "44213  44214       1        17792           330    126                 1   \n",
       "44214  44215       1        17793           330    137                 1   \n",
       "44215  44216       1        17794           330    113                 1   \n",
       "44216  44217       1        17795           330     66                 1   \n",
       "\n",
       "       village_id  \n",
       "35739          38  \n",
       "35740         289  \n",
       "35741         289  \n",
       "35742        3780  \n",
       "35743        3780  \n",
       "...           ...  \n",
       "44212        4703  \n",
       "44213        2987  \n",
       "44214        4704  \n",
       "44215        4705  \n",
       "44216        2756  \n",
       "\n",
       "[53385 rows x 7 columns]"
      ]
     },
     "execution_count": 17,
     "metadata": {},
     "output_type": "execute_result"
    }
   ],
   "source": [
    "presidents.sort_values(\"number\")\n",
    "presidents.sort_values([\"number\", \"district_id\"], ascending=[False, True])"
   ]
  },
  {
   "cell_type": "markdown",
   "metadata": {
    "slideshow": {
     "slide_type": "subslide"
    }
   },
   "source": [
    "## `sort_index` sorts `DataFrame` with the `Index` of `DataFrame`"
   ]
  },
  {
   "cell_type": "code",
   "execution_count": 18,
   "metadata": {},
   "outputs": [
    {
     "data": {
      "text/html": [
       "<div>\n",
       "<style scoped>\n",
       "    .dataframe tbody tr th:only-of-type {\n",
       "        vertical-align: middle;\n",
       "    }\n",
       "\n",
       "    .dataframe tbody tr th {\n",
       "        vertical-align: top;\n",
       "    }\n",
       "\n",
       "    .dataframe thead th {\n",
       "        text-align: right;\n",
       "    }\n",
       "</style>\n",
       "<table border=\"1\" class=\"dataframe\">\n",
       "  <thead>\n",
       "    <tr style=\"text-align: right;\">\n",
       "      <th></th>\n",
       "      <th>id</th>\n",
       "      <th>number</th>\n",
       "      <th>district_id</th>\n",
       "      <th>candidate_id</th>\n",
       "      <th>votes</th>\n",
       "      <th>election_type_id</th>\n",
       "      <th>village_id</th>\n",
       "    </tr>\n",
       "  </thead>\n",
       "  <tbody>\n",
       "    <tr>\n",
       "      <th>53384</th>\n",
       "      <td>53385</td>\n",
       "      <td>3</td>\n",
       "      <td>7918</td>\n",
       "      <td>329</td>\n",
       "      <td>364</td>\n",
       "      <td>1</td>\n",
       "      <td>5109</td>\n",
       "    </tr>\n",
       "    <tr>\n",
       "      <th>53383</th>\n",
       "      <td>53384</td>\n",
       "      <td>3</td>\n",
       "      <td>7917</td>\n",
       "      <td>329</td>\n",
       "      <td>238</td>\n",
       "      <td>1</td>\n",
       "      <td>484</td>\n",
       "    </tr>\n",
       "    <tr>\n",
       "      <th>53382</th>\n",
       "      <td>53383</td>\n",
       "      <td>3</td>\n",
       "      <td>7916</td>\n",
       "      <td>329</td>\n",
       "      <td>224</td>\n",
       "      <td>1</td>\n",
       "      <td>5108</td>\n",
       "    </tr>\n",
       "    <tr>\n",
       "      <th>53381</th>\n",
       "      <td>53382</td>\n",
       "      <td>3</td>\n",
       "      <td>7915</td>\n",
       "      <td>329</td>\n",
       "      <td>268</td>\n",
       "      <td>1</td>\n",
       "      <td>5107</td>\n",
       "    </tr>\n",
       "    <tr>\n",
       "      <th>53380</th>\n",
       "      <td>53381</td>\n",
       "      <td>3</td>\n",
       "      <td>7914</td>\n",
       "      <td>329</td>\n",
       "      <td>192</td>\n",
       "      <td>1</td>\n",
       "      <td>794</td>\n",
       "    </tr>\n",
       "    <tr>\n",
       "      <th>...</th>\n",
       "      <td>...</td>\n",
       "      <td>...</td>\n",
       "      <td>...</td>\n",
       "      <td>...</td>\n",
       "      <td>...</td>\n",
       "      <td>...</td>\n",
       "      <td>...</td>\n",
       "    </tr>\n",
       "    <tr>\n",
       "      <th>4</th>\n",
       "      <td>5</td>\n",
       "      <td>1</td>\n",
       "      <td>15039</td>\n",
       "      <td>330</td>\n",
       "      <td>210</td>\n",
       "      <td>1</td>\n",
       "      <td>4</td>\n",
       "    </tr>\n",
       "    <tr>\n",
       "      <th>3</th>\n",
       "      <td>4</td>\n",
       "      <td>1</td>\n",
       "      <td>15038</td>\n",
       "      <td>330</td>\n",
       "      <td>208</td>\n",
       "      <td>1</td>\n",
       "      <td>3</td>\n",
       "    </tr>\n",
       "    <tr>\n",
       "      <th>2</th>\n",
       "      <td>3</td>\n",
       "      <td>1</td>\n",
       "      <td>15037</td>\n",
       "      <td>330</td>\n",
       "      <td>239</td>\n",
       "      <td>1</td>\n",
       "      <td>2</td>\n",
       "    </tr>\n",
       "    <tr>\n",
       "      <th>1</th>\n",
       "      <td>2</td>\n",
       "      <td>1</td>\n",
       "      <td>15036</td>\n",
       "      <td>330</td>\n",
       "      <td>128</td>\n",
       "      <td>1</td>\n",
       "      <td>1</td>\n",
       "    </tr>\n",
       "    <tr>\n",
       "      <th>0</th>\n",
       "      <td>1</td>\n",
       "      <td>1</td>\n",
       "      <td>15035</td>\n",
       "      <td>330</td>\n",
       "      <td>146</td>\n",
       "      <td>1</td>\n",
       "      <td>1</td>\n",
       "    </tr>\n",
       "  </tbody>\n",
       "</table>\n",
       "<p>53385 rows × 7 columns</p>\n",
       "</div>"
      ],
      "text/plain": [
       "          id  number  district_id  candidate_id  votes  election_type_id  \\\n",
       "53384  53385       3         7918           329    364                 1   \n",
       "53383  53384       3         7917           329    238                 1   \n",
       "53382  53383       3         7916           329    224                 1   \n",
       "53381  53382       3         7915           329    268                 1   \n",
       "53380  53381       3         7914           329    192                 1   \n",
       "...      ...     ...          ...           ...    ...               ...   \n",
       "4          5       1        15039           330    210                 1   \n",
       "3          4       1        15038           330    208                 1   \n",
       "2          3       1        15037           330    239                 1   \n",
       "1          2       1        15036           330    128                 1   \n",
       "0          1       1        15035           330    146                 1   \n",
       "\n",
       "       village_id  \n",
       "53384        5109  \n",
       "53383         484  \n",
       "53382        5108  \n",
       "53381        5107  \n",
       "53380         794  \n",
       "...           ...  \n",
       "4               4  \n",
       "3               3  \n",
       "2               2  \n",
       "1               1  \n",
       "0               1  \n",
       "\n",
       "[53385 rows x 7 columns]"
      ]
     },
     "execution_count": 18,
     "metadata": {},
     "output_type": "execute_result"
    }
   ],
   "source": [
    "presidents.sort_index(ascending=False)"
   ]
  },
  {
   "cell_type": "markdown",
   "metadata": {
    "slideshow": {
     "slide_type": "subslide"
    }
   },
   "source": [
    "## Deriving new variables from `DataFrame`\n",
    "\n",
    "- Simple operations\n",
    "- `map` with a `dict`\n",
    "- `map` with a function"
   ]
  },
  {
   "cell_type": "markdown",
   "metadata": {
    "slideshow": {
     "slide_type": "subslide"
    }
   },
   "source": [
    "## Deriving new variable with simple operations"
   ]
  },
  {
   "cell_type": "code",
   "execution_count": 19,
   "metadata": {},
   "outputs": [
    {
     "data": {
      "text/plain": [
       "0        False\n",
       "1        False\n",
       "2         True\n",
       "3         True\n",
       "4         True\n",
       "         ...  \n",
       "53380    False\n",
       "53381     True\n",
       "53382     True\n",
       "53383     True\n",
       "53384     True\n",
       "Name: votes, Length: 53385, dtype: bool"
      ]
     },
     "execution_count": 19,
     "metadata": {},
     "output_type": "execute_result"
    }
   ],
   "source": [
    "presidents[\"votes\"] >= 200"
   ]
  },
  {
   "cell_type": "markdown",
   "metadata": {
    "slideshow": {
     "slide_type": "subslide"
    }
   },
   "source": [
    "## Deriving categorical from categorical with `map`\n",
    "\n",
    "- Passing a `dict`\n",
    "- Passing a function"
   ]
  },
  {
   "cell_type": "code",
   "execution_count": 20,
   "metadata": {
    "slideshow": {
     "slide_type": "subslide"
    }
   },
   "outputs": [
    {
     "data": {
      "text/plain": [
       "0        柯文哲/吳欣盈\n",
       "1        柯文哲/吳欣盈\n",
       "2        柯文哲/吳欣盈\n",
       "3        柯文哲/吳欣盈\n",
       "4        柯文哲/吳欣盈\n",
       "          ...   \n",
       "53380    侯友宜/趙少康\n",
       "53381    侯友宜/趙少康\n",
       "53382    侯友宜/趙少康\n",
       "53383    侯友宜/趙少康\n",
       "53384    侯友宜/趙少康\n",
       "Name: number, Length: 53385, dtype: object"
      ]
     },
     "execution_count": 20,
     "metadata": {},
     "output_type": "execute_result"
    }
   ],
   "source": [
    "# Passing a dict\n",
    "candidate_names = {\n",
    "    1: \"柯文哲/吳欣盈\",\n",
    "    2: \"賴清德/蕭美琴\",\n",
    "    3: \"侯友宜/趙少康\"\n",
    "}\n",
    "presidents[\"number\"].map(candidate_names)"
   ]
  },
  {
   "cell_type": "code",
   "execution_count": 21,
   "metadata": {
    "slideshow": {
     "slide_type": "subslide"
    }
   },
   "outputs": [
    {
     "data": {
      "text/plain": [
       "0        柯文哲/吳欣盈\n",
       "1        柯文哲/吳欣盈\n",
       "2        柯文哲/吳欣盈\n",
       "3        柯文哲/吳欣盈\n",
       "4        柯文哲/吳欣盈\n",
       "          ...   \n",
       "53380    侯友宜/趙少康\n",
       "53381    侯友宜/趙少康\n",
       "53382    侯友宜/趙少康\n",
       "53383    侯友宜/趙少康\n",
       "53384    侯友宜/趙少康\n",
       "Name: number, Length: 53385, dtype: object"
      ]
     },
     "execution_count": 21,
     "metadata": {},
     "output_type": "execute_result"
    }
   ],
   "source": [
    "# Passing a function\n",
    "def map_number_to_name(x):\n",
    "    if x == 1:\n",
    "        return \"柯文哲/吳欣盈\"\n",
    "    elif x == 2:\n",
    "        return \"賴清德/蕭美琴\"\n",
    "    else:\n",
    "        return \"侯友宜/趙少康\"\n",
    "\n",
    "presidents[\"number\"].map(map_number_to_name)"
   ]
  },
  {
   "cell_type": "markdown",
   "metadata": {
    "slideshow": {
     "slide_type": "subslide"
    }
   },
   "source": [
    "## Summarizing `DataFrame` with aggregate methods"
   ]
  },
  {
   "cell_type": "code",
   "execution_count": 22,
   "metadata": {},
   "outputs": [
    {
     "data": {
      "text/plain": [
       "13947506"
      ]
     },
     "execution_count": 22,
     "metadata": {},
     "output_type": "execute_result"
    }
   ],
   "source": [
    "presidents[\"votes\"].sum()"
   ]
  },
  {
   "cell_type": "markdown",
   "metadata": {
    "slideshow": {
     "slide_type": "subslide"
    }
   },
   "source": [
    "## Summarizing and grouping `DataFrame` with aggregate methods"
   ]
  },
  {
   "cell_type": "code",
   "execution_count": 23,
   "metadata": {},
   "outputs": [
    {
     "data": {
      "text/plain": [
       "number\n",
       "1    3690466\n",
       "2    5586019\n",
       "3    4671021\n",
       "Name: votes, dtype: int64"
      ]
     },
     "execution_count": 23,
     "metadata": {},
     "output_type": "execute_result"
    }
   ],
   "source": [
    "presidents.groupby(\"number\")[\"votes\"].sum()"
   ]
  }
 ],
 "metadata": {
  "celltoolbar": "Slideshow",
  "kernelspec": {
   "display_name": "Python 3 (ipykernel)",
   "language": "python",
   "name": "python3"
  },
  "language_info": {
   "codemirror_mode": {
    "name": "ipython",
    "version": 3
   },
   "file_extension": ".py",
   "mimetype": "text/x-python",
   "name": "python",
   "nbconvert_exporter": "python",
   "pygments_lexer": "ipython3",
   "version": "3.11.4"
  }
 },
 "nbformat": 4,
 "nbformat_minor": 4
}
