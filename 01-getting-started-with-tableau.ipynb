{
 "cells": [
  {
   "cell_type": "markdown",
   "metadata": {
    "slideshow": {
     "slide_type": "slide"
    }
   },
   "source": [
    "# Data Visualization with Modern Data Science\n",
    "\n",
    "> Getting Started with Tableau\n",
    "\n",
    "Yao-Jen Kuo <yaojenkuo@ntu.edu.tw> from [DATAINPOINT](https://www.datainpoint.com)"
   ]
  },
  {
   "cell_type": "markdown",
   "metadata": {
    "slideshow": {
     "slide_type": "slide"
    }
   },
   "source": [
    "## Getting Tableau Desktop Public Edition"
   ]
  },
  {
   "cell_type": "markdown",
   "metadata": {
    "slideshow": {
     "slide_type": "subslide"
    }
   },
   "source": [
    "## What does Tableau mean\n",
    "\n",
    "Tableau comes from the old French for \"painting, or painted target.\" We usually use tableau to describe a vivid living scene.\n",
    "\n",
    "![Imgur](https://i.imgur.com/DcuAxgz.png?1)"
   ]
  },
  {
   "cell_type": "markdown",
   "metadata": {
    "slideshow": {
     "slide_type": "subslide"
    }
   },
   "source": [
    "## Download Tableau Desktop Public Edition\n",
    "\n",
    "https://www.tableau.com/products/public/download"
   ]
  },
  {
   "cell_type": "markdown",
   "metadata": {
    "slideshow": {
     "slide_type": "subslide"
    }
   },
   "source": [
    "## Tableau Start page:  Connect\n",
    "\n",
    "- You use this section when you want to start a new data connection in your Tableau workbook.\n",
    "- Tableau Desktop has two editions\n",
    "    - Tableau Desktop Public Edition is for connections to file‐based data sources and limited online sources.\n",
    "    - Tableau Desktop Professional Edition allows you to go beyond files and connect to databases hosted on servers.\n",
    "- Tap Tableau > About to get your edition information"
   ]
  },
  {
   "cell_type": "markdown",
   "metadata": {
    "slideshow": {
     "slide_type": "subslide"
    }
   },
   "source": [
    "## Tableau Start page:  Open\n",
    "\n",
    "You use this section to open and continue working on an existing Tableau workbook. The existing workbook can be one that you’ve created or one of the samples that Tableau Software provides for training purposes."
   ]
  },
  {
   "cell_type": "markdown",
   "metadata": {
    "slideshow": {
     "slide_type": "subslide"
    }
   },
   "source": [
    "## Tableau Start page:  Discover\n",
    "\n",
    "This section gives you easy access to training resources as well as news about Tableau."
   ]
  },
  {
   "cell_type": "markdown",
   "metadata": {
    "slideshow": {
     "slide_type": "slide"
    }
   },
   "source": [
    "## Interacting with Data in Tableau"
   ]
  },
  {
   "cell_type": "markdown",
   "metadata": {
    "slideshow": {
     "slide_type": "subslide"
    }
   },
   "source": [
    "## (Recap)Import, tidy, and transform together called \"wrangle\"\n",
    "\n",
    "![](https://i.imgur.com/iI7YT4x.png)\n",
    "\n",
    "Source: [R for Data Science](https://r4ds.had.co.nz/)"
   ]
  },
  {
   "cell_type": "markdown",
   "metadata": {
    "slideshow": {
     "slide_type": "subslide"
    }
   },
   "source": [
    "## Downloading data from:\n",
    "\n",
    "[taiwan_election_2024.zip](https://taiwan-election-2024.s3.ap-northeast-1.amazonaws.com/taiwan_election_2024.zip)"
   ]
  },
  {
   "cell_type": "markdown",
   "metadata": {
    "slideshow": {
     "slide_type": "subslide"
    }
   },
   "source": [
    "## Data source: Central Election Commission\n",
    "\n",
    "https://db.cec.gov.tw/ElecTable/Election"
   ]
  },
  {
   "cell_type": "markdown",
   "metadata": {
    "slideshow": {
     "slide_type": "subslide"
    }
   },
   "source": [
    "## Download a text editor to preview your text file data\n",
    "\n",
    "- [Visual Studio Code](https://code.visualstudio.com)\n",
    "- [Atom](https://atom.io)\n",
    "- [Notepad++](https://notepad-plus-plus.org/)\n",
    "- ...etc."
   ]
  },
  {
   "cell_type": "markdown",
   "metadata": {
    "slideshow": {
     "slide_type": "subslide"
    }
   },
   "source": [
    "## CSV is short for comma-separated values\n",
    "\n",
    "> A comma-separated values (CSV) file is a delimited text file that uses a comma to separate values. Each line of the file is a data record. Each record consists of one or more fields, separated by commas.\n",
    "\n",
    "Source: <https://en.wikipedia.org/wiki/Comma-separated_values>"
   ]
  },
  {
   "cell_type": "markdown",
   "metadata": {
    "slideshow": {
     "slide_type": "subslide"
    }
   },
   "source": [
    "## Connecting to `.csv` file in Tableau\n",
    "\n",
    "Tableau Start page > Connect > To a File > Text file."
   ]
  },
  {
   "cell_type": "markdown",
   "metadata": {
    "slideshow": {
     "slide_type": "subslide"
    }
   },
   "source": [
    "## Understanding Tableau Worksheets: the place where you create the visualizations that you'll use in dashboards\n",
    "\n",
    "![Imgur](https://i.imgur.com/Lsfhpsi.png?1)"
   ]
  },
  {
   "cell_type": "markdown",
   "metadata": {
    "slideshow": {
     "slide_type": "subslide"
    }
   },
   "source": [
    "## A big picture of our fields\n",
    "\n",
    "Each of them has an icon to the left of the field name that indicates the type of data contained in the field.\n",
    "\n",
    "1. Dimensions: categorical, discrete.\n",
    "2. Measures: numerical, continuous."
   ]
  },
  {
   "cell_type": "markdown",
   "metadata": {
    "slideshow": {
     "slide_type": "subslide"
    }
   },
   "source": [
    "## Interacting with imported data\n",
    "\n",
    "- Adding filters.\n",
    "- Calculated fields."
   ]
  },
  {
   "cell_type": "markdown",
   "metadata": {
    "slideshow": {
     "slide_type": "subslide"
    }
   },
   "source": [
    "## Adding filters from data source\n",
    "\n",
    "If you don't need to base your analysis on the entire data set, you can add a filter to the extract so that Tableau can use the specified subset of the data (which may also improve performance).\n",
    "\n",
    "![Imgur](https://i.imgur.com/TeR5Q2A.png?2)"
   ]
  },
  {
   "cell_type": "markdown",
   "metadata": {
    "slideshow": {
     "slide_type": "subslide"
    }
   },
   "source": [
    "## Adding filters in Tableau Worksheets\n",
    "\n",
    "- Dragging and dropping fields onto **Filters**.\n",
    "- Adding some filters on different fields."
   ]
  },
  {
   "cell_type": "markdown",
   "metadata": {
    "slideshow": {
     "slide_type": "subslide"
    }
   },
   "source": [
    "## Calculated fields\n",
    "\n",
    "- Analysis > Create Calculated Field..."
   ]
  },
  {
   "cell_type": "markdown",
   "metadata": {
    "slideshow": {
     "slide_type": "subslide"
    }
   },
   "source": [
    "## Multiple files\n",
    "\n",
    "- Unions: Unions allow you to combine data from similar tables or datasets vertically, effectively lengthening the data.\n",
    "- Relationships: Tableau's relationship feature allows users to connect multiple tables based on common fields. This method is particularly useful when dealing with data from different sources or databases. By establishing relationships between tables, you can prevent unnecessary data duplication, ensuring a more efficient and manageable workbook.\n",
    "- Joins: Joins are a common operation in databases and data analysis, and Tableau supports various types of joins. When using joins, multiple tables are combined horizontally into a single, unified dataset based on a common field."
   ]
  },
  {
   "cell_type": "markdown",
   "metadata": {
    "slideshow": {
     "slide_type": "slide"
    }
   },
   "source": [
    "## Creating Basic Plots"
   ]
  },
  {
   "cell_type": "markdown",
   "metadata": {
    "slideshow": {
     "slide_type": "subslide"
    }
   },
   "source": [
    "## Each plot has its own purpose\n",
    "\n",
    "- To explore rankings.\n",
    "- To explore correlations,\n",
    "- To explore distributions.\n",
    "- To explore trends.\n",
    "- To explore proportions.\n",
    "- To explore values on map."
   ]
  },
  {
   "cell_type": "markdown",
   "metadata": {
    "slideshow": {
     "slide_type": "subslide"
    }
   },
   "source": [
    "## Tableau places Rows at y-axis while places Columns at x-axis\n",
    "\n",
    "![](https://media.giphy.com/media/xL7PDV9frcudO/giphy.gif)\n",
    "\n",
    "Source: <https://media.giphy.com/media/xL7PDV9frcudO/giphy.gif>"
   ]
  },
  {
   "cell_type": "markdown",
   "metadata": {
    "slideshow": {
     "slide_type": "subslide"
    }
   },
   "source": [
    "## Using bar to explore rankings\n",
    "\n",
    "- Dragging values onto Columns.\n",
    "- Dragging categories onto Rows.\n",
    "- Click sorted descending."
   ]
  },
  {
   "cell_type": "markdown",
   "metadata": {
    "slideshow": {
     "slide_type": "subslide"
    }
   },
   "source": [
    "## Showing only top `n` results\n",
    "\n",
    "- Dragging categories onto Filters.\n",
    "- Click Top and input condition."
   ]
  },
  {
   "cell_type": "markdown",
   "metadata": {
    "slideshow": {
     "slide_type": "subslide"
    }
   },
   "source": [
    "## Using scatter plot to explore correlations\n",
    "\n",
    "- Create another worksheet.\n",
    "- Dragging value onto Columns.\n",
    "- Dragging value onto Rows."
   ]
  },
  {
   "cell_type": "markdown",
   "metadata": {
    "slideshow": {
     "slide_type": "subslide"
    }
   },
   "source": [
    "## Tableau uses `SUM()` on measurements by default\n",
    "\n",
    "- Switch to `Dimension` from `Measure` for both axes.\n",
    "- Dragging a category onto Label."
   ]
  },
  {
   "cell_type": "markdown",
   "metadata": {
    "slideshow": {
     "slide_type": "subslide"
    }
   },
   "source": [
    "## Using histogram to explore distributions\n",
    "\n",
    "- Create another worksheet.\n",
    "- Dragging value onto Columns.\n",
    "- Click Show Me then click **histogram**."
   ]
  },
  {
   "cell_type": "markdown",
   "metadata": {
    "slideshow": {
     "slide_type": "subslide"
    }
   },
   "source": [
    "## Using line to explore trends\n",
    "\n",
    "- Create another worksheet.\n",
    "- Dragging date/time/datetime onto Columns.\n",
    "- Dragging value onto Rows.\n",
    "- Add a Quick Table Calculation > Running Total."
   ]
  },
  {
   "cell_type": "markdown",
   "metadata": {
    "slideshow": {
     "slide_type": "subslide"
    }
   },
   "source": [
    "## Using treemap to explore proportions\n",
    "\n",
    "- Create another worksheet.\n",
    "- Dragging category onto Columns.\n",
    "- Dragging value onto Rows.\n",
    "- Click Show Me then click **treemaps**.\n",
    "- Add a Quick Table Calculation > Percent of Total."
   ]
  },
  {
   "cell_type": "markdown",
   "metadata": {
    "slideshow": {
     "slide_type": "subslide"
    }
   },
   "source": [
    "## Using map to explore values on map\n",
    "\n",
    "- Add geographical shapefile(.shp) as new connection: [鄉鎮市區界線(TWD97經緯度) | 我國各鄉(鎮、市、區)行政區域界線圖資](https://data.gov.tw/dataset/7441)\n",
    "- Join shapefile with geographic columns.\n",
    "- Create another worksheet.\n",
    "- Dragging geometry onto worksheet.\n",
    "- Dragging value onto Color.\n",
    "- Dragging category onto Detail."
   ]
  }
 ],
 "metadata": {
  "celltoolbar": "Slideshow",
  "kernelspec": {
   "display_name": "Python 3 (ipykernel)",
   "language": "python",
   "name": "python3"
  },
  "language_info": {
   "codemirror_mode": {
    "name": "ipython",
    "version": 3
   },
   "file_extension": ".py",
   "mimetype": "text/x-python",
   "name": "python",
   "nbconvert_exporter": "python",
   "pygments_lexer": "ipython3",
   "version": "3.11.4"
  }
 },
 "nbformat": 4,
 "nbformat_minor": 4
}
