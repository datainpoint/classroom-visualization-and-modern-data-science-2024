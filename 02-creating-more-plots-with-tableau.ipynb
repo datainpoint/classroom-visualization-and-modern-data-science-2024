{
 "cells": [
  {
   "cell_type": "markdown",
   "metadata": {
    "slideshow": {
     "slide_type": "slide"
    }
   },
   "source": [
    "# Data Visualization with Modern Data Science\n",
    "\n",
    "> Creating More Plots with Tableau\n",
    "\n",
    "Yao-Jen Kuo <yaojenkuo@ntu.edu.tw> from [DATAINPOINT](https://www.datainpoint.com)"
   ]
  },
  {
   "cell_type": "markdown",
   "metadata": {
    "slideshow": {
     "slide_type": "slide"
    }
   },
   "source": [
    "## Recap"
   ]
  },
  {
   "cell_type": "markdown",
   "metadata": {
    "slideshow": {
     "slide_type": "subslide"
    }
   },
   "source": [
    "## Downloading data from:\n",
    "\n",
    "[taiwan_election_2024.zip](https://taiwan-election-2024.s3.ap-northeast-1.amazonaws.com/taiwan_election_2024.zip)"
   ]
  },
  {
   "cell_type": "markdown",
   "metadata": {
    "slideshow": {
     "slide_type": "subslide"
    }
   },
   "source": [
    "## In the last chapter, we've created\n",
    "\n",
    "- Bar to explore rankings.\n",
    "- Scatter explore correlations.\n",
    "- Histogram to explore distributions.\n",
    "- Line to explore trends.\n",
    "- Treemap to explore proportions.\n",
    "- Symbol map or choropleth to explore values on map."
   ]
  },
  {
   "cell_type": "markdown",
   "metadata": {
    "slideshow": {
     "slide_type": "subslide"
    }
   },
   "source": [
    "## There are still plenty of plots that is often used for certain purposes\n",
    "\n",
    "- Area works like line, but involves the information about combinations.\n",
    "- Discrete works like line/area, but is designed for date variables.\n",
    "- Bullet works like bar, but involves the comparison between 2 measures.\n",
    "- Dual combination integrates a bar and a line with dual axes.\n",
    "- Packed bubble works like bar, but involves a hierarchy feature and shows measure with the size of bubbles.\n",
    "- Text tables display values as numbers in a table(also called cross-tabs or pivot tables.)"
   ]
  },
  {
   "cell_type": "markdown",
   "metadata": {
    "slideshow": {
     "slide_type": "subslide"
    }
   },
   "source": [
    "## Using area to explore trends and combination at the same time\n",
    "\n",
    "- Create another worksheet.\n",
    "- Dragging date/time/datetime onto Columns.\n",
    "- Dragging value onto Rows.\n",
    "- Dragging category onto Filter and Color.\n",
    "- Click Show Me then click **area charts(continuous)**."
   ]
  },
  {
   "cell_type": "markdown",
   "metadata": {
    "slideshow": {
     "slide_type": "subslide"
    }
   },
   "source": [
    "## Using dual axis to explore trends with 2 measures\n",
    "\n",
    "- Create another worksheet.\n",
    "- Dragging date/time/datetime onto Columns.\n",
    "- Dragging **2 values** onto Rows.\n",
    "- Click dual axis on either of the **2 values**."
   ]
  },
  {
   "cell_type": "markdown",
   "metadata": {
    "slideshow": {
     "slide_type": "subslide"
    }
   },
   "source": [
    "## Using bullet to explore the comparison between 2 measures\n",
    "\n",
    "- Create another worksheet.\n",
    "- Dragging category onto Columns.\n",
    "- Dragging **2 values** onto Rows.\n",
    "- Click Show Me then click **bullet graph**."
   ]
  },
  {
   "cell_type": "markdown",
   "metadata": {
    "slideshow": {
     "slide_type": "subslide"
    }
   },
   "source": [
    "## Using packed bubble to explore ranking\n",
    "\n",
    "- Create another worksheet.\n",
    "- Create a **hierarchy**.\n",
    "- Dragging **hierarchy** onto Columns.\n",
    "- Dragging value onto Rows.\n",
    "- Click Show Me then click **packed bubbles**.\n",
    "- Drilling down by clicking the plus sign next to **hierarchy**."
   ]
  },
  {
   "cell_type": "markdown",
   "metadata": {
    "slideshow": {
     "slide_type": "subslide"
    }
   },
   "source": [
    "## Using text tables to explore summarized numbers in a table\n",
    "\n",
    "- Create another worksheet.\n",
    "- Dragging value onto Columns.\n",
    "- Dragging category onto Rows.\n",
    "- Click Show Me then click **text table**.\n",
    "- Done with a text table."
   ]
  },
  {
   "cell_type": "markdown",
   "metadata": {
    "slideshow": {
     "slide_type": "slide"
    }
   },
   "source": [
    "## Creating Calculated Fields"
   ]
  },
  {
   "cell_type": "markdown",
   "metadata": {
    "slideshow": {
     "slide_type": "subslide"
    }
   },
   "source": [
    "## What are calculated fields\n",
    "\n",
    "We can create new fields in Tableau using calculations and then save them as part of the data source. These fields are called calculated fields."
   ]
  },
  {
   "cell_type": "markdown",
   "metadata": {
    "slideshow": {
     "slide_type": "subslide"
    }
   },
   "source": [
    "## Types of calculations\n",
    "\n",
    "- Basic calculations.\n",
    "- Using functions."
   ]
  },
  {
   "cell_type": "markdown",
   "metadata": {
    "slideshow": {
     "slide_type": "subslide"
    }
   },
   "source": [
    "## Basic calculations allow us to transform values or members at\n",
    "\n",
    "- A row-level calculation.\n",
    "- An aggregate calculation."
   ]
  },
  {
   "cell_type": "markdown",
   "metadata": {
    "slideshow": {
     "slide_type": "subslide"
    }
   },
   "source": [
    "## A row-level calculation: `Voter Turnout`\n",
    "\n",
    "- Filter data source to a certain election type.\n",
    "- Analysis > Create Calculated Field.\n",
    "- Enter a name for the calculated field with `Voter Turnout` and a formula.\n",
    "- Edit format to display percentage.\n",
    "\n",
    "\\begin{equation}\n",
    "\\text{Voter Turnout} = \\frac{\\text{Effective Votes} + \\text{Wasted Votes}}{\\text{Issued Votes} + \\text{Remained Votes}}\n",
    "\\end{equation}"
   ]
  },
  {
   "cell_type": "markdown",
   "metadata": {
    "slideshow": {
     "slide_type": "subslide"
    }
   },
   "source": [
    "## An aggregate calculation: `Aggregate Voter Turnout`\n",
    "\n",
    "- Analysis > Create Calculated Field.\n",
    "- Enter a name for the calculated field with `Aggregate Voter Turnout` and a formula.\n",
    "- Edit format to display percentage.\n",
    "\n",
    "\\begin{equation}\n",
    "\\text{Voter Turnout} = \\frac{\\text{SUM} \\big( \\text{Effective Votes} + \\text{Wasted Votes} \\big)}{\\text{SUM} \\big( \\text{Issued Votes} + \\text{Remained Votes} \\big)}\n",
    "\\end{equation}"
   ]
  },
  {
   "cell_type": "markdown",
   "metadata": {
    "slideshow": {
     "slide_type": "subslide"
    }
   },
   "source": [
    "## The building blocks of writing formula of calculated fields\n",
    "\n",
    "- Functions.\n",
    "- Fields.\n",
    "- Operators.\n",
    "- Constants."
   ]
  },
  {
   "cell_type": "markdown",
   "metadata": {
    "slideshow": {
     "slide_type": "subslide"
    }
   },
   "source": [
    "## Tableau supports many functions including\n",
    "\n",
    "- Universal Functions\n",
    "    - [Number Functions](https://help.tableau.com/current/pro/desktop/en-us/functions_functions_number.htm)\n",
    "    - [String Functions](https://help.tableau.com/current/pro/desktop/en-us/functions_functions_string.htm)\n",
    "    - [Date Functions](https://help.tableau.com/current/pro/desktop/en-us/functions_functions_date.htm)\n",
    "    - [Type Conversion](https://help.tableau.com/current/pro/desktop/en-us/functions_functions_typeconversion.htm)\n",
    "    - [Logical Functions](https://help.tableau.com/current/pro/desktop/en-us/functions_functions_logical.htm)\n",
    "    - ...etc.\n",
    "- [Aggregate Functions](https://help.tableau.com/current/pro/desktop/en-us/calculations_calculatedfields_aggregate_create.htm)"
   ]
  },
  {
   "cell_type": "markdown",
   "metadata": {
    "slideshow": {
     "slide_type": "slide"
    }
   },
   "source": [
    "## Racing bar chart"
   ]
  },
  {
   "cell_type": "markdown",
   "metadata": {
    "slideshow": {
     "slide_type": "subslide"
    }
   },
   "source": [
    "## Build a racing bar chart with functions\n",
    "\n",
    "- Create another worksheet.\n",
    "- Create a calculated field `Votes Ranking` with following functions.\n",
    "\n",
    "\\begin{equation}\n",
    "\\text{Votes Ranking} = \\text{RANK_UNIQUE} \\big( \\text{SUM} \\big( \\text{Votes} \\big) \\big)\n",
    "\\end{equation}"
   ]
  },
  {
   "cell_type": "markdown",
   "metadata": {
    "slideshow": {
     "slide_type": "subslide"
    }
   },
   "source": [
    "## Build a racing bar chart with functions(cont'd)\n",
    "\n",
    "- Dragging `Votes` onto Columns.\n",
    "- Dragging `Votes Ranking` onto Rows.\n",
    "- Dragging `Name` onto Color and Label."
   ]
  },
  {
   "cell_type": "markdown",
   "metadata": {
    "slideshow": {
     "slide_type": "subslide"
    }
   },
   "source": [
    "## Build a racing bar chart with functions(cont'd)\n",
    "\n",
    "Convert `Votes Ranking` to discrete and computing using `Name`.\n",
    "\n",
    "![](images/racing_bar_setting.png)"
   ]
  },
  {
   "cell_type": "markdown",
   "metadata": {
    "slideshow": {
     "slide_type": "subslide"
    }
   },
   "source": [
    "## Build a racing bar chart with functions(cont'd)\n",
    "\n",
    "- Dragging `Vote Tallied At` onto Pages card.\n",
    "- Adjust `Vote Tallied At` to minutes/seconds."
   ]
  },
  {
   "cell_type": "markdown",
   "metadata": {
    "slideshow": {
     "slide_type": "subslide"
    }
   },
   "source": [
    "## Build another racing bar chart with functions\n",
    "\n",
    "- Create another worksheet.\n",
    "- Create a calculated field `Running Sum Votes` with following functions.\n",
    "\n",
    "\\begin{equation}\n",
    "\\text{Running Sum Votes} = \\text{RUNNING_SUM} \\big( \\text{SUM} \\big( \\text{Votes} \\big) \\big)\n",
    "\\end{equation}"
   ]
  },
  {
   "cell_type": "markdown",
   "metadata": {
    "slideshow": {
     "slide_type": "subslide"
    }
   },
   "source": [
    "## Build another racing bar chart with functions(cont'd)\n",
    "\n",
    "- Validate `Running Sum Votes` is calculated by `Vote Tallied At` and by candidates.\n",
    "- Dragging `Running Sum Votes` onto Columns.\n",
    "- Dragging `Number` and `Name` onto Rows.\n",
    "- Dragging `Name` onto Color and Label.\n",
    "- Dragging `Vote Tallied At` onto Pages card.\n",
    "- Adjust `Vote Tallied At` to minutes/seconds."
   ]
  },
  {
   "cell_type": "markdown",
   "metadata": {
    "slideshow": {
     "slide_type": "slide"
    }
   },
   "source": [
    "## The Taiwan Election 2024 Dashboard"
   ]
  },
  {
   "cell_type": "markdown",
   "metadata": {
    "slideshow": {
     "slide_type": "subslide"
    }
   },
   "source": [
    "## Taiwan Election 2024 Dashboard\n",
    "\n",
    "Reference: https://db.cec.gov.tw/Visual"
   ]
  },
  {
   "cell_type": "markdown",
   "metadata": {
    "slideshow": {
     "slide_type": "subslide"
    }
   },
   "source": [
    "## Use different plots to assemble a dashboard\n",
    "\n",
    "- Text table.\n",
    "- Bar plot.\n",
    "- Line plot.\n",
    "- Choropleth Map.\n",
    "- ...etc."
   ]
  },
  {
   "cell_type": "markdown",
   "metadata": {
    "slideshow": {
     "slide_type": "subslide"
    }
   },
   "source": [
    "## Use containers and blanks to arrange our dashboard layout\n",
    "\n",
    "- Choose an appropriate resolution.\n",
    "- Containers.\n",
    "    - Horizontal.\n",
    "    - Vertical.\n",
    "- Blanks."
   ]
  },
  {
   "cell_type": "markdown",
   "metadata": {
    "slideshow": {
     "slide_type": "subslide"
    }
   },
   "source": [
    "## Final steps\n",
    "\n",
    "- Dragging in sheets to make a good-looking dashboard.\n",
    "- Use Filter to add interactivity."
   ]
  }
 ],
 "metadata": {
  "celltoolbar": "Slideshow",
  "kernelspec": {
   "display_name": "Python 3 (ipykernel)",
   "language": "python",
   "name": "python3"
  },
  "language_info": {
   "codemirror_mode": {
    "name": "ipython",
    "version": 3
   },
   "file_extension": ".py",
   "mimetype": "text/x-python",
   "name": "python",
   "nbconvert_exporter": "python",
   "pygments_lexer": "ipython3",
   "version": "3.11.4"
  }
 },
 "nbformat": 4,
 "nbformat_minor": 4
}
